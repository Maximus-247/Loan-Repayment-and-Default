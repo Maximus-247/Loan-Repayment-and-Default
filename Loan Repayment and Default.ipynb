{
 "cells": [
  {
   "cell_type": "markdown",
   "id": "40bb361a",
   "metadata": {},
   "source": [
    "# Suggestions for a Finance Departmant in a bank using Logistic Regression Model (LRM)"
   ]
  },
  {
   "cell_type": "markdown",
   "id": "54991fc9",
   "metadata": {},
   "source": [
    "This portfolio project is for the analysis of dataset from the bank and building of a predictive model that can provide insights to the Finance Department. The PACE framework which stands for Plan, Analyse, Construct and Execute is going to be followed.\n"
   ]
  },
  {
   "cell_type": "markdown",
   "id": "6d1f005e",
   "metadata": {},
   "source": [
    "# Pace:Plan"
   ]
  },
  {
   "cell_type": "markdown",
   "id": "24b45592",
   "metadata": {},
   "source": [
    "In this stage, we try to undersatnd the data in the problem context. \n"
   ]
  },
  {
   "cell_type": "markdown",
   "id": "3b756f02",
   "metadata": {},
   "source": [
    "# Understanding the business scenario and the problem"
   ]
  },
  {
   "cell_type": "markdown",
   "id": "4b24ff56",
   "metadata": {},
   "source": [
    "Loans are a significant source of income for banks. But risk is frequently attached to it. The borrowers might not repay the debt. In this scenario, the bank has made the decision to apply machine learning to alleviate this problem. It has gathered historical information on the loan borrowers, and wants to build a robust mechine learning (ML) model to determine whether a new borrower is likely to default or not. Again, it wants to assess what factors are likely to make the repayment of the loan impossible for borrowers. "
   ]
  },
  {
   "cell_type": "markdown",
   "id": "4ce23fd6",
   "metadata": {},
   "source": [
    "# Step 1. Imports"
   ]
  },
  {
   "cell_type": "markdown",
   "id": "06f615b6",
   "metadata": {},
   "source": [
    "Importing packages and loading dataset"
   ]
  },
  {
   "cell_type": "code",
   "execution_count": 1,
   "id": "ff76a8ad",
   "metadata": {},
   "outputs": [],
   "source": [
    "# Importing packages\n",
    "# For data manipulation\n",
    "import numpy as np\n",
    "import pandas as pd\n",
    "\n",
    "# For data visualization\n",
    "import matplotlib.pyplot as plt\n",
    "import seaborn as sns\n",
    "\n",
    "# For data modeling\n",
    "from xgboost import plot_importance\n",
    "from sklearn.linear_model import LogisticRegression\n",
    "\n",
    "# For metrics and helpful functions\n",
    "from sklearn.model_selection import GridSearchCV, train_test_split\n",
    "from sklearn.metrics import accuracy_score, precision_score, recall_score,\\\n",
    "f1_score, confusion_matrix, ConfusionMatrixDisplay, classification_report\n",
    "from sklearn.metrics import roc_auc_score, roc_curve\n",
    "\n",
    "# For saving models\n",
    "import pickle"
   ]
  },
  {
   "cell_type": "markdown",
   "id": "2aa51eb1",
   "metadata": {},
   "source": [
    "# Loading the dataset"
   ]
  },
  {
   "cell_type": "code",
   "execution_count": 2,
   "id": "836c2735",
   "metadata": {},
   "outputs": [],
   "source": [
    "# Load dataset into a dataframe\n",
    "data=pd.read_csv('CBZ.csv')"
   ]
  },
  {
   "cell_type": "code",
   "execution_count": 3,
   "id": "cc72dd02",
   "metadata": {},
   "outputs": [
    {
     "data": {
      "text/html": [
       "<div>\n",
       "<style scoped>\n",
       "    .dataframe tbody tr th:only-of-type {\n",
       "        vertical-align: middle;\n",
       "    }\n",
       "\n",
       "    .dataframe tbody tr th {\n",
       "        vertical-align: top;\n",
       "    }\n",
       "\n",
       "    .dataframe thead th {\n",
       "        text-align: right;\n",
       "    }\n",
       "</style>\n",
       "<table border=\"1\" class=\"dataframe\">\n",
       "  <thead>\n",
       "    <tr style=\"text-align: right;\">\n",
       "      <th></th>\n",
       "      <th>Age</th>\n",
       "      <th>Gender</th>\n",
       "      <th>Marital Status</th>\n",
       "      <th>Income</th>\n",
       "      <th>home_ownership</th>\n",
       "      <th>length_of_employment</th>\n",
       "      <th>purpose_of_loan</th>\n",
       "      <th>loan_grade</th>\n",
       "      <th>loan_amount</th>\n",
       "      <th>interest_rate</th>\n",
       "      <th>loan_status</th>\n",
       "      <th>loan_percent_income</th>\n",
       "      <th>History_of_Default</th>\n",
       "      <th>Length_of_Default_History</th>\n",
       "    </tr>\n",
       "  </thead>\n",
       "  <tbody>\n",
       "    <tr>\n",
       "      <th>0</th>\n",
       "      <td>22</td>\n",
       "      <td>0</td>\n",
       "      <td>4</td>\n",
       "      <td>59000</td>\n",
       "      <td>RENT</td>\n",
       "      <td>156.0</td>\n",
       "      <td>PERSONAL USE</td>\n",
       "      <td>D</td>\n",
       "      <td>35000</td>\n",
       "      <td>16.0</td>\n",
       "      <td>1</td>\n",
       "      <td>0.59</td>\n",
       "      <td>Y</td>\n",
       "      <td>3</td>\n",
       "    </tr>\n",
       "    <tr>\n",
       "      <th>1</th>\n",
       "      <td>23</td>\n",
       "      <td>1</td>\n",
       "      <td>2</td>\n",
       "      <td>92111</td>\n",
       "      <td>RENT</td>\n",
       "      <td>7.0</td>\n",
       "      <td>MEDICAL PURPOSES</td>\n",
       "      <td>F</td>\n",
       "      <td>35000</td>\n",
       "      <td>20.0</td>\n",
       "      <td>1</td>\n",
       "      <td>0.32</td>\n",
       "      <td>N</td>\n",
       "      <td>4</td>\n",
       "    </tr>\n",
       "    <tr>\n",
       "      <th>2</th>\n",
       "      <td>23</td>\n",
       "      <td>1</td>\n",
       "      <td>4</td>\n",
       "      <td>113000</td>\n",
       "      <td>RENT</td>\n",
       "      <td>8.0</td>\n",
       "      <td>DEBT CONSOLIDATION</td>\n",
       "      <td>D</td>\n",
       "      <td>35000</td>\n",
       "      <td>18.0</td>\n",
       "      <td>1</td>\n",
       "      <td>0.31</td>\n",
       "      <td>N</td>\n",
       "      <td>4</td>\n",
       "    </tr>\n",
       "    <tr>\n",
       "      <th>3</th>\n",
       "      <td>24</td>\n",
       "      <td>1</td>\n",
       "      <td>3</td>\n",
       "      <td>10800</td>\n",
       "      <td>MORTGAGE</td>\n",
       "      <td>8.0</td>\n",
       "      <td>EDUCATION</td>\n",
       "      <td>B</td>\n",
       "      <td>1750</td>\n",
       "      <td>11.0</td>\n",
       "      <td>1</td>\n",
       "      <td>0.16</td>\n",
       "      <td>N</td>\n",
       "      <td>2</td>\n",
       "    </tr>\n",
       "    <tr>\n",
       "      <th>4</th>\n",
       "      <td>22</td>\n",
       "      <td>0</td>\n",
       "      <td>3</td>\n",
       "      <td>65000</td>\n",
       "      <td>RENT</td>\n",
       "      <td>4.0</td>\n",
       "      <td>EDUCATION</td>\n",
       "      <td>D</td>\n",
       "      <td>34000</td>\n",
       "      <td>18.0</td>\n",
       "      <td>1</td>\n",
       "      <td>0.52</td>\n",
       "      <td>N</td>\n",
       "      <td>4</td>\n",
       "    </tr>\n",
       "    <tr>\n",
       "      <th>...</th>\n",
       "      <td>...</td>\n",
       "      <td>...</td>\n",
       "      <td>...</td>\n",
       "      <td>...</td>\n",
       "      <td>...</td>\n",
       "      <td>...</td>\n",
       "      <td>...</td>\n",
       "      <td>...</td>\n",
       "      <td>...</td>\n",
       "      <td>...</td>\n",
       "      <td>...</td>\n",
       "      <td>...</td>\n",
       "      <td>...</td>\n",
       "      <td>...</td>\n",
       "    </tr>\n",
       "    <tr>\n",
       "      <th>30864</th>\n",
       "      <td>57</td>\n",
       "      <td>0</td>\n",
       "      <td>1</td>\n",
       "      <td>53000</td>\n",
       "      <td>MORTGAGE</td>\n",
       "      <td>1.0</td>\n",
       "      <td>PERSONAL USE</td>\n",
       "      <td>C</td>\n",
       "      <td>5800</td>\n",
       "      <td>13.0</td>\n",
       "      <td>0</td>\n",
       "      <td>0.11</td>\n",
       "      <td>N</td>\n",
       "      <td>30</td>\n",
       "    </tr>\n",
       "    <tr>\n",
       "      <th>30865</th>\n",
       "      <td>54</td>\n",
       "      <td>0</td>\n",
       "      <td>1</td>\n",
       "      <td>120000</td>\n",
       "      <td>MORTGAGE</td>\n",
       "      <td>4.0</td>\n",
       "      <td>PERSONAL USE</td>\n",
       "      <td>A</td>\n",
       "      <td>17625</td>\n",
       "      <td>7.0</td>\n",
       "      <td>0</td>\n",
       "      <td>0.15</td>\n",
       "      <td>N</td>\n",
       "      <td>19</td>\n",
       "    </tr>\n",
       "    <tr>\n",
       "      <th>30866</th>\n",
       "      <td>65</td>\n",
       "      <td>0</td>\n",
       "      <td>2</td>\n",
       "      <td>76000</td>\n",
       "      <td>RENT</td>\n",
       "      <td>3.0</td>\n",
       "      <td>HOME RENOVATIONS</td>\n",
       "      <td>B</td>\n",
       "      <td>35000</td>\n",
       "      <td>11.0</td>\n",
       "      <td>1</td>\n",
       "      <td>0.46</td>\n",
       "      <td>N</td>\n",
       "      <td>28</td>\n",
       "    </tr>\n",
       "    <tr>\n",
       "      <th>30867</th>\n",
       "      <td>56</td>\n",
       "      <td>0</td>\n",
       "      <td>3</td>\n",
       "      <td>150000</td>\n",
       "      <td>MORTGAGE</td>\n",
       "      <td>5.0</td>\n",
       "      <td>PERSONAL USE</td>\n",
       "      <td>B</td>\n",
       "      <td>15000</td>\n",
       "      <td>11.0</td>\n",
       "      <td>0</td>\n",
       "      <td>0.10</td>\n",
       "      <td>N</td>\n",
       "      <td>26</td>\n",
       "    </tr>\n",
       "    <tr>\n",
       "      <th>30868</th>\n",
       "      <td>66</td>\n",
       "      <td>0</td>\n",
       "      <td>3</td>\n",
       "      <td>42000</td>\n",
       "      <td>RENT</td>\n",
       "      <td>2.0</td>\n",
       "      <td>MEDICAL PURPOSES</td>\n",
       "      <td>B</td>\n",
       "      <td>6475</td>\n",
       "      <td>10.0</td>\n",
       "      <td>0</td>\n",
       "      <td>0.15</td>\n",
       "      <td>N</td>\n",
       "      <td>30</td>\n",
       "    </tr>\n",
       "  </tbody>\n",
       "</table>\n",
       "<p>30869 rows × 14 columns</p>\n",
       "</div>"
      ],
      "text/plain": [
       "       Age  Gender  Marital Status  Income home_ownership  \\\n",
       "0       22       0               4   59000           RENT   \n",
       "1       23       1               2   92111           RENT   \n",
       "2       23       1               4  113000           RENT   \n",
       "3       24       1               3   10800       MORTGAGE   \n",
       "4       22       0               3   65000           RENT   \n",
       "...    ...     ...             ...     ...            ...   \n",
       "30864   57       0               1   53000       MORTGAGE   \n",
       "30865   54       0               1  120000       MORTGAGE   \n",
       "30866   65       0               2   76000           RENT   \n",
       "30867   56       0               3  150000       MORTGAGE   \n",
       "30868   66       0               3   42000           RENT   \n",
       "\n",
       "       length_of_employment     purpose_of_loan loan_grade  loan_amount  \\\n",
       "0                     156.0        PERSONAL USE          D        35000   \n",
       "1                       7.0    MEDICAL PURPOSES          F        35000   \n",
       "2                       8.0  DEBT CONSOLIDATION          D        35000   \n",
       "3                       8.0           EDUCATION          B         1750   \n",
       "4                       4.0           EDUCATION          D        34000   \n",
       "...                     ...                 ...        ...          ...   \n",
       "30864                   1.0        PERSONAL USE          C         5800   \n",
       "30865                   4.0        PERSONAL USE          A        17625   \n",
       "30866                   3.0    HOME RENOVATIONS          B        35000   \n",
       "30867                   5.0        PERSONAL USE          B        15000   \n",
       "30868                   2.0    MEDICAL PURPOSES          B         6475   \n",
       "\n",
       "       interest_rate  loan_status  loan_percent_income History_of_Default  \\\n",
       "0               16.0            1                 0.59                  Y   \n",
       "1               20.0            1                 0.32                  N   \n",
       "2               18.0            1                 0.31                  N   \n",
       "3               11.0            1                 0.16                  N   \n",
       "4               18.0            1                 0.52                  N   \n",
       "...              ...          ...                  ...                ...   \n",
       "30864           13.0            0                 0.11                  N   \n",
       "30865            7.0            0                 0.15                  N   \n",
       "30866           11.0            1                 0.46                  N   \n",
       "30867           11.0            0                 0.10                  N   \n",
       "30868           10.0            0                 0.15                  N   \n",
       "\n",
       "       Length_of_Default_History  \n",
       "0                              3  \n",
       "1                              4  \n",
       "2                              4  \n",
       "3                              2  \n",
       "4                              4  \n",
       "...                          ...  \n",
       "30864                         30  \n",
       "30865                         19  \n",
       "30866                         28  \n",
       "30867                         26  \n",
       "30868                         30  \n",
       "\n",
       "[30869 rows x 14 columns]"
      ]
     },
     "execution_count": 3,
     "metadata": {},
     "output_type": "execute_result"
    }
   ],
   "source": [
    "#displaying the dataframe\n",
    "data"
   ]
  },
  {
   "cell_type": "code",
   "execution_count": 4,
   "id": "c12b0d9a",
   "metadata": {},
   "outputs": [
    {
     "data": {
      "text/html": [
       "<div>\n",
       "<style scoped>\n",
       "    .dataframe tbody tr th:only-of-type {\n",
       "        vertical-align: middle;\n",
       "    }\n",
       "\n",
       "    .dataframe tbody tr th {\n",
       "        vertical-align: top;\n",
       "    }\n",
       "\n",
       "    .dataframe thead th {\n",
       "        text-align: right;\n",
       "    }\n",
       "</style>\n",
       "<table border=\"1\" class=\"dataframe\">\n",
       "  <thead>\n",
       "    <tr style=\"text-align: right;\">\n",
       "      <th></th>\n",
       "      <th>Age</th>\n",
       "      <th>Gender</th>\n",
       "      <th>Marital Status</th>\n",
       "      <th>Income</th>\n",
       "      <th>home_ownership</th>\n",
       "      <th>length_of_employment</th>\n",
       "      <th>purpose_of_loan</th>\n",
       "      <th>loan_grade</th>\n",
       "      <th>loan_amount</th>\n",
       "      <th>interest_rate</th>\n",
       "      <th>loan_status</th>\n",
       "      <th>loan_percent_income</th>\n",
       "      <th>History_of_Default</th>\n",
       "      <th>Length_of_Default_History</th>\n",
       "    </tr>\n",
       "  </thead>\n",
       "  <tbody>\n",
       "    <tr>\n",
       "      <th>0</th>\n",
       "      <td>22</td>\n",
       "      <td>0</td>\n",
       "      <td>4</td>\n",
       "      <td>59000</td>\n",
       "      <td>RENT</td>\n",
       "      <td>156.0</td>\n",
       "      <td>PERSONAL USE</td>\n",
       "      <td>D</td>\n",
       "      <td>35000</td>\n",
       "      <td>16.0</td>\n",
       "      <td>1</td>\n",
       "      <td>0.59</td>\n",
       "      <td>Y</td>\n",
       "      <td>3</td>\n",
       "    </tr>\n",
       "    <tr>\n",
       "      <th>1</th>\n",
       "      <td>23</td>\n",
       "      <td>1</td>\n",
       "      <td>2</td>\n",
       "      <td>92111</td>\n",
       "      <td>RENT</td>\n",
       "      <td>7.0</td>\n",
       "      <td>MEDICAL PURPOSES</td>\n",
       "      <td>F</td>\n",
       "      <td>35000</td>\n",
       "      <td>20.0</td>\n",
       "      <td>1</td>\n",
       "      <td>0.32</td>\n",
       "      <td>N</td>\n",
       "      <td>4</td>\n",
       "    </tr>\n",
       "    <tr>\n",
       "      <th>2</th>\n",
       "      <td>23</td>\n",
       "      <td>1</td>\n",
       "      <td>4</td>\n",
       "      <td>113000</td>\n",
       "      <td>RENT</td>\n",
       "      <td>8.0</td>\n",
       "      <td>DEBT CONSOLIDATION</td>\n",
       "      <td>D</td>\n",
       "      <td>35000</td>\n",
       "      <td>18.0</td>\n",
       "      <td>1</td>\n",
       "      <td>0.31</td>\n",
       "      <td>N</td>\n",
       "      <td>4</td>\n",
       "    </tr>\n",
       "    <tr>\n",
       "      <th>3</th>\n",
       "      <td>24</td>\n",
       "      <td>1</td>\n",
       "      <td>3</td>\n",
       "      <td>10800</td>\n",
       "      <td>MORTGAGE</td>\n",
       "      <td>8.0</td>\n",
       "      <td>EDUCATION</td>\n",
       "      <td>B</td>\n",
       "      <td>1750</td>\n",
       "      <td>11.0</td>\n",
       "      <td>1</td>\n",
       "      <td>0.16</td>\n",
       "      <td>N</td>\n",
       "      <td>2</td>\n",
       "    </tr>\n",
       "    <tr>\n",
       "      <th>4</th>\n",
       "      <td>22</td>\n",
       "      <td>0</td>\n",
       "      <td>3</td>\n",
       "      <td>65000</td>\n",
       "      <td>RENT</td>\n",
       "      <td>4.0</td>\n",
       "      <td>EDUCATION</td>\n",
       "      <td>D</td>\n",
       "      <td>34000</td>\n",
       "      <td>18.0</td>\n",
       "      <td>1</td>\n",
       "      <td>0.52</td>\n",
       "      <td>N</td>\n",
       "      <td>4</td>\n",
       "    </tr>\n",
       "  </tbody>\n",
       "</table>\n",
       "</div>"
      ],
      "text/plain": [
       "   Age  Gender  Marital Status  Income home_ownership  length_of_employment  \\\n",
       "0   22       0               4   59000           RENT                 156.0   \n",
       "1   23       1               2   92111           RENT                   7.0   \n",
       "2   23       1               4  113000           RENT                   8.0   \n",
       "3   24       1               3   10800       MORTGAGE                   8.0   \n",
       "4   22       0               3   65000           RENT                   4.0   \n",
       "\n",
       "      purpose_of_loan loan_grade  loan_amount  interest_rate  loan_status  \\\n",
       "0        PERSONAL USE          D        35000           16.0            1   \n",
       "1    MEDICAL PURPOSES          F        35000           20.0            1   \n",
       "2  DEBT CONSOLIDATION          D        35000           18.0            1   \n",
       "3           EDUCATION          B         1750           11.0            1   \n",
       "4           EDUCATION          D        34000           18.0            1   \n",
       "\n",
       "   loan_percent_income History_of_Default  Length_of_Default_History  \n",
       "0                 0.59                  Y                          3  \n",
       "1                 0.32                  N                          4  \n",
       "2                 0.31                  N                          4  \n",
       "3                 0.16                  N                          2  \n",
       "4                 0.52                  N                          4  "
      ]
     },
     "execution_count": 4,
     "metadata": {},
     "output_type": "execute_result"
    }
   ],
   "source": [
    "# Display first few rows of the dataframe\n",
    "data.head()"
   ]
  },
  {
   "cell_type": "markdown",
   "id": "1f2b74b6",
   "metadata": {},
   "source": [
    "# Step 2. Data Exploration (Initial EDA and data cleaning)"
   ]
  },
  {
   "cell_type": "markdown",
   "id": "26ba15f8",
   "metadata": {},
   "source": [
    "a) Understand your variables\n",
    "\n",
    "b) Clean your dataset (missing data, redundant data, outliers)"
   ]
  },
  {
   "cell_type": "markdown",
   "id": "05a2e6de",
   "metadata": {},
   "source": [
    "# Gathering basic information about the data"
   ]
  },
  {
   "cell_type": "code",
   "execution_count": 5,
   "id": "d254a088",
   "metadata": {},
   "outputs": [
    {
     "name": "stdout",
     "output_type": "stream",
     "text": [
      "<class 'pandas.core.frame.DataFrame'>\n",
      "RangeIndex: 30869 entries, 0 to 30868\n",
      "Data columns (total 14 columns):\n",
      " #   Column                     Non-Null Count  Dtype  \n",
      "---  ------                     --------------  -----  \n",
      " 0   Age                        30869 non-null  int64  \n",
      " 1   Gender                     30869 non-null  int64  \n",
      " 2   Marital Status             30869 non-null  int64  \n",
      " 3   Income                     30869 non-null  int64  \n",
      " 4   home_ownership             30869 non-null  object \n",
      " 5   length_of_employment       30014 non-null  float64\n",
      " 6   purpose_of_loan            30869 non-null  object \n",
      " 7   loan_grade                 30869 non-null  object \n",
      " 8   loan_amount                30869 non-null  int64  \n",
      " 9   interest_rate              27920 non-null  float64\n",
      " 10  loan_status                30869 non-null  int64  \n",
      " 11  loan_percent_income        30869 non-null  float64\n",
      " 12  History_of_Default         30869 non-null  object \n",
      " 13  Length_of_Default_History  30869 non-null  int64  \n",
      "dtypes: float64(3), int64(7), object(4)\n",
      "memory usage: 3.3+ MB\n"
     ]
    }
   ],
   "source": [
    "# Gathering basic information about the data\n",
    "data.info()"
   ]
  },
  {
   "cell_type": "markdown",
   "id": "4d6aef8d",
   "metadata": {},
   "source": [
    "# Gathering descriptive statistics about the data"
   ]
  },
  {
   "cell_type": "code",
   "execution_count": 6,
   "id": "920a6dc4",
   "metadata": {},
   "outputs": [
    {
     "data": {
      "text/html": [
       "<div>\n",
       "<style scoped>\n",
       "    .dataframe tbody tr th:only-of-type {\n",
       "        vertical-align: middle;\n",
       "    }\n",
       "\n",
       "    .dataframe tbody tr th {\n",
       "        vertical-align: top;\n",
       "    }\n",
       "\n",
       "    .dataframe thead th {\n",
       "        text-align: right;\n",
       "    }\n",
       "</style>\n",
       "<table border=\"1\" class=\"dataframe\">\n",
       "  <thead>\n",
       "    <tr style=\"text-align: right;\">\n",
       "      <th></th>\n",
       "      <th>Age</th>\n",
       "      <th>Gender</th>\n",
       "      <th>Marital Status</th>\n",
       "      <th>Income</th>\n",
       "      <th>length_of_employment</th>\n",
       "      <th>loan_amount</th>\n",
       "      <th>interest_rate</th>\n",
       "      <th>loan_status</th>\n",
       "      <th>loan_percent_income</th>\n",
       "      <th>Length_of_Default_History</th>\n",
       "    </tr>\n",
       "  </thead>\n",
       "  <tbody>\n",
       "    <tr>\n",
       "      <th>count</th>\n",
       "      <td>30869.000000</td>\n",
       "      <td>30869.000000</td>\n",
       "      <td>30869.000000</td>\n",
       "      <td>3.086900e+04</td>\n",
       "      <td>30014.000000</td>\n",
       "      <td>30869.000000</td>\n",
       "      <td>27920.000000</td>\n",
       "      <td>30869.000000</td>\n",
       "      <td>30869.000000</td>\n",
       "      <td>30869.000000</td>\n",
       "    </tr>\n",
       "    <tr>\n",
       "      <th>mean</th>\n",
       "      <td>27.742914</td>\n",
       "      <td>0.501118</td>\n",
       "      <td>2.002494</td>\n",
       "      <td>6.538968e+04</td>\n",
       "      <td>4.778936</td>\n",
       "      <td>9562.388642</td>\n",
       "      <td>11.046956</td>\n",
       "      <td>0.229875</td>\n",
       "      <td>0.170950</td>\n",
       "      <td>5.808384</td>\n",
       "    </tr>\n",
       "    <tr>\n",
       "      <th>std</th>\n",
       "      <td>6.378228</td>\n",
       "      <td>0.500007</td>\n",
       "      <td>1.221710</td>\n",
       "      <td>6.080485e+04</td>\n",
       "      <td>4.211443</td>\n",
       "      <td>6317.368644</td>\n",
       "      <td>3.248749</td>\n",
       "      <td>0.420759</td>\n",
       "      <td>0.107478</td>\n",
       "      <td>4.067071</td>\n",
       "    </tr>\n",
       "    <tr>\n",
       "      <th>min</th>\n",
       "      <td>20.000000</td>\n",
       "      <td>0.000000</td>\n",
       "      <td>0.000000</td>\n",
       "      <td>4.000000e+03</td>\n",
       "      <td>0.000000</td>\n",
       "      <td>500.000000</td>\n",
       "      <td>5.000000</td>\n",
       "      <td>0.000000</td>\n",
       "      <td>0.000000</td>\n",
       "      <td>2.000000</td>\n",
       "    </tr>\n",
       "    <tr>\n",
       "      <th>25%</th>\n",
       "      <td>23.000000</td>\n",
       "      <td>0.000000</td>\n",
       "      <td>1.000000</td>\n",
       "      <td>3.810000e+04</td>\n",
       "      <td>2.000000</td>\n",
       "      <td>5000.000000</td>\n",
       "      <td>8.000000</td>\n",
       "      <td>0.000000</td>\n",
       "      <td>0.090000</td>\n",
       "      <td>3.000000</td>\n",
       "    </tr>\n",
       "    <tr>\n",
       "      <th>50%</th>\n",
       "      <td>26.000000</td>\n",
       "      <td>1.000000</td>\n",
       "      <td>2.000000</td>\n",
       "      <td>5.500000e+04</td>\n",
       "      <td>4.000000</td>\n",
       "      <td>8000.000000</td>\n",
       "      <td>11.000000</td>\n",
       "      <td>0.000000</td>\n",
       "      <td>0.150000</td>\n",
       "      <td>4.000000</td>\n",
       "    </tr>\n",
       "    <tr>\n",
       "      <th>75%</th>\n",
       "      <td>30.000000</td>\n",
       "      <td>1.000000</td>\n",
       "      <td>3.000000</td>\n",
       "      <td>7.999500e+04</td>\n",
       "      <td>7.000000</td>\n",
       "      <td>12250.000000</td>\n",
       "      <td>13.000000</td>\n",
       "      <td>0.000000</td>\n",
       "      <td>0.230000</td>\n",
       "      <td>8.000000</td>\n",
       "    </tr>\n",
       "    <tr>\n",
       "      <th>max</th>\n",
       "      <td>144.000000</td>\n",
       "      <td>1.000000</td>\n",
       "      <td>4.000000</td>\n",
       "      <td>6.000000e+06</td>\n",
       "      <td>156.000000</td>\n",
       "      <td>35000.000000</td>\n",
       "      <td>23.000000</td>\n",
       "      <td>1.000000</td>\n",
       "      <td>0.830000</td>\n",
       "      <td>30.000000</td>\n",
       "    </tr>\n",
       "  </tbody>\n",
       "</table>\n",
       "</div>"
      ],
      "text/plain": [
       "                Age        Gender  Marital Status        Income  \\\n",
       "count  30869.000000  30869.000000    30869.000000  3.086900e+04   \n",
       "mean      27.742914      0.501118        2.002494  6.538968e+04   \n",
       "std        6.378228      0.500007        1.221710  6.080485e+04   \n",
       "min       20.000000      0.000000        0.000000  4.000000e+03   \n",
       "25%       23.000000      0.000000        1.000000  3.810000e+04   \n",
       "50%       26.000000      1.000000        2.000000  5.500000e+04   \n",
       "75%       30.000000      1.000000        3.000000  7.999500e+04   \n",
       "max      144.000000      1.000000        4.000000  6.000000e+06   \n",
       "\n",
       "       length_of_employment   loan_amount  interest_rate   loan_status  \\\n",
       "count          30014.000000  30869.000000   27920.000000  30869.000000   \n",
       "mean               4.778936   9562.388642      11.046956      0.229875   \n",
       "std                4.211443   6317.368644       3.248749      0.420759   \n",
       "min                0.000000    500.000000       5.000000      0.000000   \n",
       "25%                2.000000   5000.000000       8.000000      0.000000   \n",
       "50%                4.000000   8000.000000      11.000000      0.000000   \n",
       "75%                7.000000  12250.000000      13.000000      0.000000   \n",
       "max              156.000000  35000.000000      23.000000      1.000000   \n",
       "\n",
       "       loan_percent_income  Length_of_Default_History  \n",
       "count         30869.000000               30869.000000  \n",
       "mean              0.170950                   5.808384  \n",
       "std               0.107478                   4.067071  \n",
       "min               0.000000                   2.000000  \n",
       "25%               0.090000                   3.000000  \n",
       "50%               0.150000                   4.000000  \n",
       "75%               0.230000                   8.000000  \n",
       "max               0.830000                  30.000000  "
      ]
     },
     "execution_count": 6,
     "metadata": {},
     "output_type": "execute_result"
    }
   ],
   "source": [
    "# Gather descriptive statistics about the data\n",
    "data.describe()"
   ]
  },
  {
   "cell_type": "markdown",
   "id": "1a6d58ca",
   "metadata": {},
   "source": [
    "# Checking for the missing values in the dataframe"
   ]
  },
  {
   "cell_type": "code",
   "execution_count": 7,
   "id": "dc21f56f",
   "metadata": {},
   "outputs": [
    {
     "data": {
      "text/plain": [
       "Age                             0\n",
       "Gender                          0\n",
       "Marital Status                  0\n",
       "Income                          0\n",
       "home_ownership                  0\n",
       "length_of_employment          855\n",
       "purpose_of_loan                 0\n",
       "loan_grade                      0\n",
       "loan_amount                     0\n",
       "interest_rate                2949\n",
       "loan_status                     0\n",
       "loan_percent_income             0\n",
       "History_of_Default              0\n",
       "Length_of_Default_History       0\n",
       "dtype: int64"
      ]
     },
     "execution_count": 7,
     "metadata": {},
     "output_type": "execute_result"
    }
   ],
   "source": [
    "# Checking for missing values\n",
    "data.isnull().sum()"
   ]
  },
  {
   "cell_type": "markdown",
   "id": "e444a6a3",
   "metadata": {},
   "source": [
    "There are two variables that have missing values namely length_of_employment and interest_rate. One of the methods of solving for missingness is replacing the missing values by a median which is going to be used in this project. "
   ]
  },
  {
   "cell_type": "code",
   "execution_count": 8,
   "id": "49d0673f",
   "metadata": {},
   "outputs": [
    {
     "data": {
      "text/plain": [
       "4.0"
      ]
     },
     "execution_count": 8,
     "metadata": {},
     "output_type": "execute_result"
    }
   ],
   "source": [
    "#finding the median of length_of_employment\n",
    "data.loc[:,\"length_of_employment\"].median()"
   ]
  },
  {
   "cell_type": "code",
   "execution_count": 9,
   "id": "ec6ddb45",
   "metadata": {},
   "outputs": [
    {
     "data": {
      "text/plain": [
       "11.0"
      ]
     },
     "execution_count": 9,
     "metadata": {},
     "output_type": "execute_result"
    }
   ],
   "source": [
    "#finding the median of interest_rate\n",
    "data.loc[:,\"interest_rate\"].median()"
   ]
  },
  {
   "cell_type": "code",
   "execution_count": 10,
   "id": "28c7b760",
   "metadata": {},
   "outputs": [],
   "source": [
    "#filling in the missing values in the length_of_employment variable with the median\n",
    "data['length_of_employment'].fillna(data['length_of_employment'].median(), inplace=True)"
   ]
  },
  {
   "cell_type": "code",
   "execution_count": 11,
   "id": "afcfaa70",
   "metadata": {},
   "outputs": [],
   "source": [
    "#filling in the missing values in the interest_rate variable with the median\n",
    "data['interest_rate'].fillna(data['interest_rate'].median(), inplace=True)"
   ]
  },
  {
   "cell_type": "code",
   "execution_count": 12,
   "id": "377a0cff",
   "metadata": {},
   "outputs": [
    {
     "data": {
      "text/plain": [
       "Age                          0\n",
       "Gender                       0\n",
       "Marital Status               0\n",
       "Income                       0\n",
       "home_ownership               0\n",
       "length_of_employment         0\n",
       "purpose_of_loan              0\n",
       "loan_grade                   0\n",
       "loan_amount                  0\n",
       "interest_rate                0\n",
       "loan_status                  0\n",
       "loan_percent_income          0\n",
       "History_of_Default           0\n",
       "Length_of_Default_History    0\n",
       "dtype: int64"
      ]
     },
     "execution_count": 12,
     "metadata": {},
     "output_type": "execute_result"
    }
   ],
   "source": [
    "#checking for missing values again\n",
    "data.isnull().sum()"
   ]
  },
  {
   "cell_type": "markdown",
   "id": "0969e0ab",
   "metadata": {},
   "source": [
    "No missing value in in the dataset now. The issue of missingness is solved"
   ]
  },
  {
   "cell_type": "markdown",
   "id": "17ff7cbf",
   "metadata": {},
   "source": [
    "# Checking for duplicates in the dataframe"
   ]
  },
  {
   "cell_type": "code",
   "execution_count": 13,
   "id": "2a8256c7",
   "metadata": {},
   "outputs": [
    {
     "data": {
      "text/plain": [
       "13"
      ]
     },
     "execution_count": 13,
     "metadata": {},
     "output_type": "execute_result"
    }
   ],
   "source": [
    "# Checking for duplicates\n",
    "data.duplicated().sum()"
   ]
  },
  {
   "cell_type": "markdown",
   "id": "722f058b",
   "metadata": {},
   "source": [
    "13 rows contain duplicates. That is 4% of the data."
   ]
  },
  {
   "cell_type": "code",
   "execution_count": 14,
   "id": "740ae46c",
   "metadata": {},
   "outputs": [
    {
     "data": {
      "text/html": [
       "<div>\n",
       "<style scoped>\n",
       "    .dataframe tbody tr th:only-of-type {\n",
       "        vertical-align: middle;\n",
       "    }\n",
       "\n",
       "    .dataframe tbody tr th {\n",
       "        vertical-align: top;\n",
       "    }\n",
       "\n",
       "    .dataframe thead th {\n",
       "        text-align: right;\n",
       "    }\n",
       "</style>\n",
       "<table border=\"1\" class=\"dataframe\">\n",
       "  <thead>\n",
       "    <tr style=\"text-align: right;\">\n",
       "      <th></th>\n",
       "      <th>Age</th>\n",
       "      <th>Gender</th>\n",
       "      <th>Marital Status</th>\n",
       "      <th>Income</th>\n",
       "      <th>home_ownership</th>\n",
       "      <th>length_of_employment</th>\n",
       "      <th>purpose_of_loan</th>\n",
       "      <th>loan_grade</th>\n",
       "      <th>loan_amount</th>\n",
       "      <th>interest_rate</th>\n",
       "      <th>loan_status</th>\n",
       "      <th>loan_percent_income</th>\n",
       "      <th>History_of_Default</th>\n",
       "      <th>Length_of_Default_History</th>\n",
       "    </tr>\n",
       "  </thead>\n",
       "  <tbody>\n",
       "    <tr>\n",
       "      <th>15289</th>\n",
       "      <td>22</td>\n",
       "      <td>1</td>\n",
       "      <td>0</td>\n",
       "      <td>42000</td>\n",
       "      <td>RENT</td>\n",
       "      <td>0.0</td>\n",
       "      <td>PERSONAL USE</td>\n",
       "      <td>A</td>\n",
       "      <td>3600</td>\n",
       "      <td>7.0</td>\n",
       "      <td>0</td>\n",
       "      <td>0.09</td>\n",
       "      <td>N</td>\n",
       "      <td>3</td>\n",
       "    </tr>\n",
       "    <tr>\n",
       "      <th>15565</th>\n",
       "      <td>26</td>\n",
       "      <td>1</td>\n",
       "      <td>3</td>\n",
       "      <td>59000</td>\n",
       "      <td>RENT</td>\n",
       "      <td>2.0</td>\n",
       "      <td>PERSONAL USE</td>\n",
       "      <td>B</td>\n",
       "      <td>8500</td>\n",
       "      <td>12.0</td>\n",
       "      <td>0</td>\n",
       "      <td>0.14</td>\n",
       "      <td>N</td>\n",
       "      <td>4</td>\n",
       "    </tr>\n",
       "    <tr>\n",
       "      <th>15598</th>\n",
       "      <td>23</td>\n",
       "      <td>1</td>\n",
       "      <td>3</td>\n",
       "      <td>20664</td>\n",
       "      <td>RENT</td>\n",
       "      <td>4.0</td>\n",
       "      <td>EDUCATION</td>\n",
       "      <td>C</td>\n",
       "      <td>4550</td>\n",
       "      <td>14.0</td>\n",
       "      <td>0</td>\n",
       "      <td>0.22</td>\n",
       "      <td>Y</td>\n",
       "      <td>3</td>\n",
       "    </tr>\n",
       "    <tr>\n",
       "      <th>15905</th>\n",
       "      <td>21</td>\n",
       "      <td>0</td>\n",
       "      <td>4</td>\n",
       "      <td>33009</td>\n",
       "      <td>OWN</td>\n",
       "      <td>5.0</td>\n",
       "      <td>BUSINESS USE</td>\n",
       "      <td>B</td>\n",
       "      <td>12000</td>\n",
       "      <td>11.0</td>\n",
       "      <td>0</td>\n",
       "      <td>0.36</td>\n",
       "      <td>N</td>\n",
       "      <td>4</td>\n",
       "    </tr>\n",
       "    <tr>\n",
       "      <th>15924</th>\n",
       "      <td>25</td>\n",
       "      <td>1</td>\n",
       "      <td>2</td>\n",
       "      <td>89000</td>\n",
       "      <td>MORTGAGE</td>\n",
       "      <td>9.0</td>\n",
       "      <td>MEDICAL PURPOSES</td>\n",
       "      <td>A</td>\n",
       "      <td>14000</td>\n",
       "      <td>7.0</td>\n",
       "      <td>0</td>\n",
       "      <td>0.16</td>\n",
       "      <td>N</td>\n",
       "      <td>2</td>\n",
       "    </tr>\n",
       "  </tbody>\n",
       "</table>\n",
       "</div>"
      ],
      "text/plain": [
       "       Age  Gender  Marital Status  Income home_ownership  \\\n",
       "15289   22       1               0   42000           RENT   \n",
       "15565   26       1               3   59000           RENT   \n",
       "15598   23       1               3   20664           RENT   \n",
       "15905   21       0               4   33009            OWN   \n",
       "15924   25       1               2   89000       MORTGAGE   \n",
       "\n",
       "       length_of_employment   purpose_of_loan loan_grade  loan_amount  \\\n",
       "15289                   0.0      PERSONAL USE          A         3600   \n",
       "15565                   2.0      PERSONAL USE          B         8500   \n",
       "15598                   4.0         EDUCATION          C         4550   \n",
       "15905                   5.0      BUSINESS USE          B        12000   \n",
       "15924                   9.0  MEDICAL PURPOSES          A        14000   \n",
       "\n",
       "       interest_rate  loan_status  loan_percent_income History_of_Default  \\\n",
       "15289            7.0            0                 0.09                  N   \n",
       "15565           12.0            0                 0.14                  N   \n",
       "15598           14.0            0                 0.22                  Y   \n",
       "15905           11.0            0                 0.36                  N   \n",
       "15924            7.0            0                 0.16                  N   \n",
       "\n",
       "       Length_of_Default_History  \n",
       "15289                          3  \n",
       "15565                          4  \n",
       "15598                          3  \n",
       "15905                          4  \n",
       "15924                          2  "
      ]
     },
     "execution_count": 14,
     "metadata": {},
     "output_type": "execute_result"
    }
   ],
   "source": [
    "# Inspecting some rows containing duplicates as needed\n",
    "data[data.duplicated()].head()"
   ]
  },
  {
   "cell_type": "markdown",
   "id": "b4342a44",
   "metadata": {},
   "source": [
    "The above output shows the first five occurences of rows that are duplicated down in the dataframe. The duplicated rows should be dropped. "
   ]
  },
  {
   "cell_type": "code",
   "execution_count": 15,
   "id": "2a705224",
   "metadata": {},
   "outputs": [],
   "source": [
    "# Dropping duplicates and saving resulting dataframe in a new variable as needed\n",
    "Data = data.drop_duplicates(keep='first')"
   ]
  },
  {
   "cell_type": "code",
   "execution_count": 16,
   "id": "ef345600",
   "metadata": {},
   "outputs": [
    {
     "data": {
      "text/html": [
       "<div>\n",
       "<style scoped>\n",
       "    .dataframe tbody tr th:only-of-type {\n",
       "        vertical-align: middle;\n",
       "    }\n",
       "\n",
       "    .dataframe tbody tr th {\n",
       "        vertical-align: top;\n",
       "    }\n",
       "\n",
       "    .dataframe thead th {\n",
       "        text-align: right;\n",
       "    }\n",
       "</style>\n",
       "<table border=\"1\" class=\"dataframe\">\n",
       "  <thead>\n",
       "    <tr style=\"text-align: right;\">\n",
       "      <th></th>\n",
       "      <th>Age</th>\n",
       "      <th>Gender</th>\n",
       "      <th>Marital Status</th>\n",
       "      <th>Income</th>\n",
       "      <th>home_ownership</th>\n",
       "      <th>length_of_employment</th>\n",
       "      <th>purpose_of_loan</th>\n",
       "      <th>loan_grade</th>\n",
       "      <th>loan_amount</th>\n",
       "      <th>interest_rate</th>\n",
       "      <th>loan_status</th>\n",
       "      <th>loan_percent_income</th>\n",
       "      <th>History_of_Default</th>\n",
       "      <th>Length_of_Default_History</th>\n",
       "    </tr>\n",
       "  </thead>\n",
       "  <tbody>\n",
       "    <tr>\n",
       "      <th>0</th>\n",
       "      <td>22</td>\n",
       "      <td>0</td>\n",
       "      <td>4</td>\n",
       "      <td>59000</td>\n",
       "      <td>RENT</td>\n",
       "      <td>156.0</td>\n",
       "      <td>PERSONAL USE</td>\n",
       "      <td>D</td>\n",
       "      <td>35000</td>\n",
       "      <td>16.0</td>\n",
       "      <td>1</td>\n",
       "      <td>0.59</td>\n",
       "      <td>Y</td>\n",
       "      <td>3</td>\n",
       "    </tr>\n",
       "    <tr>\n",
       "      <th>1</th>\n",
       "      <td>23</td>\n",
       "      <td>1</td>\n",
       "      <td>2</td>\n",
       "      <td>92111</td>\n",
       "      <td>RENT</td>\n",
       "      <td>7.0</td>\n",
       "      <td>MEDICAL PURPOSES</td>\n",
       "      <td>F</td>\n",
       "      <td>35000</td>\n",
       "      <td>20.0</td>\n",
       "      <td>1</td>\n",
       "      <td>0.32</td>\n",
       "      <td>N</td>\n",
       "      <td>4</td>\n",
       "    </tr>\n",
       "    <tr>\n",
       "      <th>2</th>\n",
       "      <td>23</td>\n",
       "      <td>1</td>\n",
       "      <td>4</td>\n",
       "      <td>113000</td>\n",
       "      <td>RENT</td>\n",
       "      <td>8.0</td>\n",
       "      <td>DEBT CONSOLIDATION</td>\n",
       "      <td>D</td>\n",
       "      <td>35000</td>\n",
       "      <td>18.0</td>\n",
       "      <td>1</td>\n",
       "      <td>0.31</td>\n",
       "      <td>N</td>\n",
       "      <td>4</td>\n",
       "    </tr>\n",
       "    <tr>\n",
       "      <th>3</th>\n",
       "      <td>24</td>\n",
       "      <td>1</td>\n",
       "      <td>3</td>\n",
       "      <td>10800</td>\n",
       "      <td>MORTGAGE</td>\n",
       "      <td>8.0</td>\n",
       "      <td>EDUCATION</td>\n",
       "      <td>B</td>\n",
       "      <td>1750</td>\n",
       "      <td>11.0</td>\n",
       "      <td>1</td>\n",
       "      <td>0.16</td>\n",
       "      <td>N</td>\n",
       "      <td>2</td>\n",
       "    </tr>\n",
       "    <tr>\n",
       "      <th>4</th>\n",
       "      <td>22</td>\n",
       "      <td>0</td>\n",
       "      <td>3</td>\n",
       "      <td>65000</td>\n",
       "      <td>RENT</td>\n",
       "      <td>4.0</td>\n",
       "      <td>EDUCATION</td>\n",
       "      <td>D</td>\n",
       "      <td>34000</td>\n",
       "      <td>18.0</td>\n",
       "      <td>1</td>\n",
       "      <td>0.52</td>\n",
       "      <td>N</td>\n",
       "      <td>4</td>\n",
       "    </tr>\n",
       "  </tbody>\n",
       "</table>\n",
       "</div>"
      ],
      "text/plain": [
       "   Age  Gender  Marital Status  Income home_ownership  length_of_employment  \\\n",
       "0   22       0               4   59000           RENT                 156.0   \n",
       "1   23       1               2   92111           RENT                   7.0   \n",
       "2   23       1               4  113000           RENT                   8.0   \n",
       "3   24       1               3   10800       MORTGAGE                   8.0   \n",
       "4   22       0               3   65000           RENT                   4.0   \n",
       "\n",
       "      purpose_of_loan loan_grade  loan_amount  interest_rate  loan_status  \\\n",
       "0        PERSONAL USE          D        35000           16.0            1   \n",
       "1    MEDICAL PURPOSES          F        35000           20.0            1   \n",
       "2  DEBT CONSOLIDATION          D        35000           18.0            1   \n",
       "3           EDUCATION          B         1750           11.0            1   \n",
       "4           EDUCATION          D        34000           18.0            1   \n",
       "\n",
       "   loan_percent_income History_of_Default  Length_of_Default_History  \n",
       "0                 0.59                  Y                          3  \n",
       "1                 0.32                  N                          4  \n",
       "2                 0.31                  N                          4  \n",
       "3                 0.16                  N                          2  \n",
       "4                 0.52                  N                          4  "
      ]
     },
     "execution_count": 16,
     "metadata": {},
     "output_type": "execute_result"
    }
   ],
   "source": [
    "# Display first few rows of new dataframe as needed\n",
    "Data.head()"
   ]
  },
  {
   "cell_type": "code",
   "execution_count": 17,
   "id": "ad15f0f7",
   "metadata": {},
   "outputs": [
    {
     "data": {
      "text/plain": [
       "0"
      ]
     },
     "execution_count": 17,
     "metadata": {},
     "output_type": "execute_result"
    }
   ],
   "source": [
    "Data.duplicated().sum()"
   ]
  },
  {
   "cell_type": "markdown",
   "id": "bc6f8ef8",
   "metadata": {},
   "source": [
    "# Checking for outliers in the dataframe"
   ]
  },
  {
   "cell_type": "markdown",
   "id": "77b6d77d",
   "metadata": {},
   "source": [
    "Outliers can have a significant impact on the accuracy and reliability of the model. It is important to detect and handle outliers appropriately to ensure that our model produces accurate and reliable information. Certain types of models are more sensitive to outliers than others. When we get to the stage of building your model, we will consider whether to remove these outliers based on the type of model we have decided to use."
   ]
  },
  {
   "cell_type": "markdown",
   "id": "84b9e6e7",
   "metadata": {},
   "source": [
    "# Using a boxplot to check for outliers"
   ]
  },
  {
   "cell_type": "code",
   "execution_count": 18,
   "id": "cd43ae28",
   "metadata": {},
   "outputs": [
    {
     "data": {
      "image/png": "[encoded data removed]",
      "text/plain": [
       "<Figure size 432x432 with 1 Axes>"
      ]
     },
     "metadata": {
      "needs_background": "light"
     },
     "output_type": "display_data"
    }
   ],
   "source": [
    "# Create a boxplot to visualize distribution of `Length_of_employment` and detect any outliers\n",
    "plt.figure(figsize=(6,6))\n",
    "plt.title('Boxplot to detect the outliers for length_of_employment', fontsize=12)\n",
    "plt.xticks(fontsize=12)\n",
    "plt.yticks(fontsize=12)\n",
    "sns.boxplot(x=Data['length_of_employment'])\n",
    "plt.show()"
   ]
  },
  {
   "cell_type": "markdown",
   "id": "68e31c4c",
   "metadata": {},
   "source": [
    "# Determining the number of rows containing outliers "
   ]
  },
  {
   "cell_type": "code",
   "execution_count": 19,
   "id": "1a6fb9e1",
   "metadata": {},
   "outputs": [
    {
     "name": "stdout",
     "output_type": "stream",
     "text": [
      "Lower limit: -5.5\n",
      "Upper limit: 14.5\n",
      "Number of rows in the data containing outliers in `length_of_employment`: 801\n"
     ]
    }
   ],
   "source": [
    "# Compute the 25th percentile value in `tenure`\n",
    "percentile25 = Data['length_of_employment'].quantile(0.25)\n",
    "\n",
    "# Compute the 75th percentile value in `tenure`\n",
    "percentile75 = Data['length_of_employment'].quantile(0.75)\n",
    "\n",
    "# Compute the interquartile range in `tenure`\n",
    "iqr = percentile75 - percentile25\n",
    "\n",
    "# Define the upper limit and lower limit for non-outlier values in `tenure`\n",
    "upper_limit = percentile75 + 1.5 * iqr\n",
    "lower_limit = percentile25 - 1.5 * iqr\n",
    "print(\"Lower limit:\", lower_limit)\n",
    "print(\"Upper limit:\", upper_limit)\n",
    "\n",
    "# Identify subset of data containing outliers in `tenure`\n",
    "outliers = Data[(Data['length_of_employment'] > upper_limit) | (Data['length_of_employment'] < lower_limit)]\n",
    "\n",
    "# Count how many rows in the data contain outliers in `tenure`\n",
    "print(\"Number of rows in the data containing outliers in `length_of_employment`:\", len(outliers))"
   ]
  },
  {
   "cell_type": "markdown",
   "id": "7f673ad3",
   "metadata": {},
   "source": [
    "801 are rows of outliers from the length of employment which is 3% of our dataset"
   ]
  },
  {
   "cell_type": "markdown",
   "id": "2fbad88c",
   "metadata": {},
   "source": [
    "# pAce: Analyze stage"
   ]
  },
  {
   "cell_type": "markdown",
   "id": "feab8570",
   "metadata": {},
   "source": [
    "Performing Explanatory Data Analysis (EDA) by analyzing relationships between variables"
   ]
  },
  {
   "cell_type": "markdown",
   "id": "c07ba8b1",
   "metadata": {},
   "source": [
    "# Step 2. Data Exploration (Continueing with  Explanatory Data Analysis)"
   ]
  },
  {
   "cell_type": "markdown",
   "id": "0d491236",
   "metadata": {},
   "source": [
    "Begining by understanding how many customers and what percentage of all customers this figure represents."
   ]
  },
  {
   "cell_type": "code",
   "execution_count": 20,
   "id": "62584bd8",
   "metadata": {},
   "outputs": [
    {
     "name": "stdout",
     "output_type": "stream",
     "text": [
      "0    23760\n",
      "1     7096\n",
      "Name: loan_status, dtype: int64\n",
      "\n",
      "0    0.770029\n",
      "1    0.229971\n",
      "Name: loan_status, dtype: float64\n"
     ]
    }
   ],
   "source": [
    "# Getting numbers of people who did not default vs. people who defaulted\n",
    "print(Data['loan_status'].value_counts())\n",
    "print()\n",
    "\n",
    "# Getting percentages of people who did not default vs. who defaulted\n",
    "print(Data['loan_status'].value_counts(normalize=True))"
   ]
  },
  {
   "cell_type": "markdown",
   "id": "9dff1be8",
   "metadata": {},
   "source": [
    "From the output above we can see that in our data there are 23 760 customers who did not default loan repayment which is around 77% of the data. 7 096 is the figure of customers who defaulted the loan repayment which is 23% of the data."
   ]
  },
  {
   "cell_type": "markdown",
   "id": "b7212faf",
   "metadata": {},
   "source": [
    "# Data Visualizations"
   ]
  },
  {
   "cell_type": "markdown",
   "id": "1c5bd79a",
   "metadata": {},
   "source": [
    "Now, examining variables that we are interested in, and creating plots to visualize relationships between variables in the data.\n",
    "We could start by creating a stacked boxplot showing loan_amount and interest_rate comparing the distributions of customers who defaulted loan repayment versus those who managed to repay back the loan.\n",
    "\n",
    "Box plots are very useful in visualizing distributions within data, but they can be deceiving without the context of how big the sample sizes that they represent are. So, we could also plot a stacked histogram to visualize the distribution of the customers  who defaulted and those who did not default the loan repayment."
   ]
  },
  {
   "cell_type": "markdown",
   "id": "bb017983",
   "metadata": {},
   "source": [
    "Visualising loan amount by interest using boxplots and using the histogram to see the distributions of who did not default and who defaulted"
   ]
  },
  {
   "cell_type": "code",
   "execution_count": 21,
   "id": "cf12ac32",
   "metadata": {},
   "outputs": [
    {
     "data": {
      "image/png": "[encoded data removed]",
      "text/plain": [
       "<Figure size 1584x576 with 2 Axes>"
      ]
     },
     "metadata": {
      "needs_background": "light"
     },
     "output_type": "display_data"
    }
   ],
   "source": [
    "# Creating a plot as needed\n",
    "# Setting figure and axes\n",
    "fig, ax=plt.subplots(1,2, figsize=(22,8))\n",
    "# Creating boxplot showing `loan_amount` distributions for `interest_rates`, comparing cutomers who defaulted versus those who did not default\n",
    "sns.boxplot(data=Data, x='loan_amount', y='interest_rate', hue='loan_status', orient=\"h\", ax=ax[0])\n",
    "ax[0].invert_yaxis()\n",
    "ax[0].set_title(\"Loan amount by loan interest\", fontsize='14')\n",
    "# Creating histogram showing distribution of `loan_amount`, comparing customers who defaulted versus those who did not\n",
    "loan_default=Data[Data['loan_status']==1]['interest_rate']\n",
    "loan_ndefault=Data[Data['loan_status']==0]['interest_rate']\n",
    "sns.histplot(data=Data, x='interest_rate', hue='loan_status', multiple='dodge', shrink=2, ax=ax[1])\n",
    "ax[1].set_title('interest_rate', fontsize='14')\n",
    "# Displaying the plots\n",
    "plt.show()"
   ]
  },
  {
   "cell_type": "code",
   "execution_count": 22,
   "id": "5a315fc3",
   "metadata": {},
   "outputs": [
    {
     "data": {
      "text/plain": [
       "0    2663\n",
       "1     309\n",
       "Name: loan_status, dtype: int64"
      ]
     },
     "execution_count": 22,
     "metadata": {},
     "output_type": "execute_result"
    }
   ],
   "source": [
    "#finding the number of people who defaulted and ones that did not default caused by the interest_rate\n",
    "Data[Data['interest_rate']==7]['loan_status'].value_counts()"
   ]
  },
  {
   "cell_type": "code",
   "execution_count": 23,
   "id": "74a4ee4b",
   "metadata": {},
   "outputs": [
    {
     "data": {
      "text/plain": [
       "65391.72964739435"
      ]
     },
     "execution_count": 23,
     "metadata": {},
     "output_type": "execute_result"
    }
   ],
   "source": [
    "#finding the mean of interest_rate\n",
    "Data['Income'].mean()"
   ]
  },
  {
   "cell_type": "code",
   "execution_count": 24,
   "id": "d5caa2f9",
   "metadata": {},
   "outputs": [
    {
     "data": {
      "text/plain": [
       "Text(0.5, 1.0, 'monthly income by length of employment')"
      ]
     },
     "execution_count": 24,
     "metadata": {},
     "output_type": "execute_result"
    },
    {
     "data": {
      "image/png": "[encoded data removed]",
      "text/plain": [
       "<Figure size 1152x648 with 1 Axes>"
      ]
     },
     "metadata": {
      "needs_background": "light"
     },
     "output_type": "display_data"
    }
   ],
   "source": [
    "#creating a scatterplot of Income vs length of employment\n",
    "plt.figure(figsize=(16,9))\n",
    "sns.scatterplot(data=Data, x='Income', y='length_of_employment',hue='loan_status', alpha=0.4)\n",
    "plt.axvline(x=65391.72964739435, color='#ff63', label='$65391.72964739435/mo', ls='--' )\n",
    "plt.legend(labels=['$65391.72964739435/mo', 'loan_status', 'defaulted'])\n",
    "plt.title('monthly income by length of employment', fontsize='14')"
   ]
  },
  {
   "cell_type": "code",
   "execution_count": 25,
   "id": "30fc6b93",
   "metadata": {},
   "outputs": [
    {
     "data": {
      "text/html": [
       "<div>\n",
       "<style scoped>\n",
       "    .dataframe tbody tr th:only-of-type {\n",
       "        vertical-align: middle;\n",
       "    }\n",
       "\n",
       "    .dataframe tbody tr th {\n",
       "        vertical-align: top;\n",
       "    }\n",
       "\n",
       "    .dataframe thead th {\n",
       "        text-align: right;\n",
       "    }\n",
       "</style>\n",
       "<table border=\"1\" class=\"dataframe\">\n",
       "  <thead>\n",
       "    <tr style=\"text-align: right;\">\n",
       "      <th></th>\n",
       "      <th>mean</th>\n",
       "      <th>median</th>\n",
       "    </tr>\n",
       "    <tr>\n",
       "      <th>loan_status</th>\n",
       "      <th></th>\n",
       "      <th></th>\n",
       "    </tr>\n",
       "  </thead>\n",
       "  <tbody>\n",
       "    <tr>\n",
       "      <th>0</th>\n",
       "      <td>70253.732744</td>\n",
       "      <td>60000.0</td>\n",
       "    </tr>\n",
       "    <tr>\n",
       "      <th>1</th>\n",
       "      <td>49111.967306</td>\n",
       "      <td>41496.0</td>\n",
       "    </tr>\n",
       "  </tbody>\n",
       "</table>\n",
       "</div>"
      ],
      "text/plain": [
       "                     mean   median\n",
       "loan_status                       \n",
       "0            70253.732744  60000.0\n",
       "1            49111.967306  41496.0"
      ]
     },
     "execution_count": 25,
     "metadata": {},
     "output_type": "execute_result"
    }
   ],
   "source": [
    "Data.groupby(['loan_status'])['Income'].agg([np.mean,np.median])"
   ]
  },
  {
   "cell_type": "code",
   "execution_count": 26,
   "id": "2274779f",
   "metadata": {},
   "outputs": [
    {
     "data": {
      "text/plain": [
       "count    3.085600e+04\n",
       "mean     6.539173e+04\n",
       "std      6.081482e+04\n",
       "min      4.000000e+03\n",
       "25%      3.810000e+04\n",
       "50%      5.500000e+04\n",
       "75%      7.999275e+04\n",
       "max      6.000000e+06\n",
       "Name: Income, dtype: float64"
      ]
     },
     "execution_count": 26,
     "metadata": {},
     "output_type": "execute_result"
    }
   ],
   "source": [
    "Data['Income'].describe()"
   ]
  },
  {
   "cell_type": "code",
   "execution_count": 27,
   "id": "37b956e6",
   "metadata": {},
   "outputs": [
    {
     "data": {
      "text/plain": [
       "Text(0.5, 1.0, 'monthly income by loan_amount')"
      ]
     },
     "execution_count": 27,
     "metadata": {},
     "output_type": "execute_result"
    },
    {
     "data": {
      "image/png": "[encoded data removed]",
      "text/plain": [
       "<Figure size 1152x648 with 1 Axes>"
      ]
     },
     "metadata": {
      "needs_background": "light"
     },
     "output_type": "display_data"
    }
   ],
   "source": [
    "#creating a scatterplot of Income vs loan_amount\n",
    "plt.figure(figsize=(16,9))\n",
    "sns.scatterplot(data=Data, x='Income', y='loan_amount',hue='loan_status', alpha=0.4)\n",
    "plt.axvline(x=65391.72964739435, color='#ff63', label='$65391.72964739435/mo', ls='--' )\n",
    "plt.legend(labels=['$65391.72964739435/mo', 'loan_status', 'defaulted'])\n",
    "plt.title('monthly income by loan_amount', fontsize='14')"
   ]
  },
  {
   "cell_type": "code",
   "execution_count": 28,
   "id": "5273110c",
   "metadata": {},
   "outputs": [
    {
     "data": {
      "text/plain": [
       "EDUCATION             6087\n",
       "MEDICAL PURPOSES      5762\n",
       "BUSINESS USE          5375\n",
       "PERSONAL USE          5235\n",
       "DEBT CONSOLIDATION    4970\n",
       "HOME RENOVATIONS      3427\n",
       "Name: purpose_of_loan, dtype: int64"
      ]
     },
     "execution_count": 28,
     "metadata": {},
     "output_type": "execute_result"
    }
   ],
   "source": [
    "#Display counts for each loan_purpose\n",
    "Data['purpose_of_loan'].value_counts()"
   ]
  },
  {
   "cell_type": "code",
   "execution_count": 29,
   "id": "d9340bc0",
   "metadata": {},
   "outputs": [
    {
     "data": {
      "text/plain": [
       "Text(0.5, 1.0, 'Counts of defaulted/not_defaulted by purpose_of_loan')"
      ]
     },
     "execution_count": 29,
     "metadata": {},
     "output_type": "execute_result"
    },
    {
     "data": {
      "image/png": "[encoded data removed]",
      "text/plain": [
       "<Figure size 792x576 with 1 Axes>"
      ]
     },
     "metadata": {
      "needs_background": "light"
     },
     "output_type": "display_data"
    }
   ],
   "source": [
    "#creating a stacked histogram to compare purpose_of_loan distributions for those who defaulted against those who did not default\n",
    "plt.figure(figsize=(11,8))\n",
    "sns.histplot(data=Data, x='purpose_of_loan', hue='loan_status', discrete=1, hue_order=[0,1], multiple='dodge', shrink=.5)\n",
    "plt.xticks(rotation='45')\n",
    "plt.title('Counts of defaulted/not_defaulted by purpose_of_loan', fontsize=14)"
   ]
  },
  {
   "cell_type": "markdown",
   "id": "df32d3b1",
   "metadata": {},
   "source": [
    "There does not seem to be any purpose_of_loan that differs significantlyin its proportion of clients who defauted to those who did not default. "
   ]
  },
  {
   "cell_type": "markdown",
   "id": "d8f2647c",
   "metadata": {},
   "source": [
    "Lastly we can check for strong correlations between variables in the data"
   ]
  },
  {
   "cell_type": "code",
   "execution_count": 30,
   "id": "18e8ec54",
   "metadata": {},
   "outputs": [
    {
     "data": {
      "image/png": "[encoded data removed]",
      "text/plain": [
       "<Figure size 1152x648 with 2 Axes>"
      ]
     },
     "metadata": {
      "needs_background": "light"
     },
     "output_type": "display_data"
    }
   ],
   "source": [
    "#plotting a correlation heatmap\n",
    "plt.figure(figsize=(16,9))\n",
    "heatmap=sns.heatmap(data.corr(), vmin=-1, vmax=1, annot=True, cmap=sns.color_palette(\"vlag\", as_cmap=True))\n",
    "heatmap.set_title('Correlation Heatmap', fontdict={'fontsize':14}, pad=12);"
   ]
  },
  {
   "cell_type": "markdown",
   "id": "a78ae0d9",
   "metadata": {},
   "source": [
    "# Insights"
   ]
  },
  {
   "cell_type": "markdown",
   "id": "ebc567d6",
   "metadata": {},
   "source": [
    "From the heapmat above it appears that the clients are defaulting due to Age, Marrital Status, Income, Length_of_employment and Length_of_Default_History. "
   ]
  },
  {
   "cell_type": "markdown",
   "id": "bd3d781a",
   "metadata": {},
   "source": [
    "# paCe:Construct Stage"
   ]
  },
  {
   "cell_type": "markdown",
   "id": "98a0ab1e",
   "metadata": {},
   "source": [
    "From our dataset there are some categorical variables which are: home_ownership, purpose_of_loan, loan_grade and History_of_Default. We convert these categorical variables to numerical variables using the LabelEncoder"
   ]
  },
  {
   "cell_type": "code",
   "execution_count": 31,
   "id": "b375abb8",
   "metadata": {},
   "outputs": [],
   "source": [
    "#importing the library for the conversion of categorical data to mumerical data\n",
    "from sklearn.preprocessing import LabelEncoder\n",
    "le=LabelEncoder()"
   ]
  },
  {
   "cell_type": "code",
   "execution_count": 32,
   "id": "7952df8d",
   "metadata": {},
   "outputs": [
    {
     "name": "stderr",
     "output_type": "stream",
     "text": [
      "C:\\Users\\MuvirimiT\\miniconda3\\envs\\KV7006\\lib\\site-packages\\pandas\\core\\generic.py:5516: SettingWithCopyWarning: \n",
      "A value is trying to be set on a copy of a slice from a DataFrame.\n",
      "Try using .loc[row_indexer,col_indexer] = value instead\n",
      "\n",
      "See the caveats in the documentation: https://pandas.pydata.org/pandas-docs/stable/user_guide/indexing.html#returning-a-view-versus-a-copy\n",
      "  self[name] = value\n"
     ]
    }
   ],
   "source": [
    "#conversion of categorical data to numerical data\n",
    "Data.home_ownership=le.fit_transform(Data.home_ownership)\n",
    "Data.purpose_of_loan=le.fit_transform(Data.purpose_of_loan)\n",
    "Data.loan_grade=le.fit_transform(Data.loan_grade)\n",
    "Data.History_of_Default=le.fit_transform(Data.History_of_Default)"
   ]
  },
  {
   "cell_type": "code",
   "execution_count": 33,
   "id": "0dd14304",
   "metadata": {},
   "outputs": [
    {
     "data": {
      "image/png": "[encoded data removed]",
      "text/plain": [
       "<Figure size 1152x576 with 2 Axes>"
      ]
     },
     "metadata": {
      "needs_background": "light"
     },
     "output_type": "display_data"
    }
   ],
   "source": [
    "#creating the heatmap for the variables we are interested in\n",
    "plt.figure(figsize=(16, 8))\n",
    "sns.heatmap(Data[['Age', 'Marital Status', 'Income','length_of_employment', 'History_of_Default', 'Length_of_Default_History']].corr(), annot=True, cmap=\"crest\")\n",
    "plt.title('Heatmap of the dataset')\n",
    "plt.show()"
   ]
  },
  {
   "cell_type": "code",
   "execution_count": 34,
   "id": "c67dbe8e",
   "metadata": {},
   "outputs": [
    {
     "data": {
      "image/png": "[encoded data removed]",
      "text/plain": [
       "<Figure size 432x288 with 1 Axes>"
      ]
     },
     "metadata": {
      "needs_background": "light"
     },
     "output_type": "display_data"
    }
   ],
   "source": [
    "#creating a stacked bart plot to visualize number of clients across the bank who borrowed the money and defaulted and not defaulted\n",
    "pd.crosstab(data['purpose_of_loan'], data['loan_status']).plot(kind='bar', color='mr')\n",
    "plt.title('Counts of employees who defaulted versus who did not default')\n",
    "plt.ylabel('Employee count')\n",
    "plt.xlabel('purpose_of_loan')\n",
    "plt.show()"
   ]
  },
  {
   "cell_type": "markdown",
   "id": "7a521618",
   "metadata": {},
   "source": [
    "Since logistic regression is quite sensitive to outliers, it would be a good idea at this stage to remove the outliers in the length of employment column that were identified earlier."
   ]
  },
  {
   "cell_type": "code",
   "execution_count": 35,
   "id": "3f56ee26",
   "metadata": {},
   "outputs": [
    {
     "data": {
      "text/html": [
       "<div>\n",
       "<style scoped>\n",
       "    .dataframe tbody tr th:only-of-type {\n",
       "        vertical-align: middle;\n",
       "    }\n",
       "\n",
       "    .dataframe tbody tr th {\n",
       "        vertical-align: top;\n",
       "    }\n",
       "\n",
       "    .dataframe thead th {\n",
       "        text-align: right;\n",
       "    }\n",
       "</style>\n",
       "<table border=\"1\" class=\"dataframe\">\n",
       "  <thead>\n",
       "    <tr style=\"text-align: right;\">\n",
       "      <th></th>\n",
       "      <th>Age</th>\n",
       "      <th>Gender</th>\n",
       "      <th>Marital Status</th>\n",
       "      <th>Income</th>\n",
       "      <th>home_ownership</th>\n",
       "      <th>length_of_employment</th>\n",
       "      <th>purpose_of_loan</th>\n",
       "      <th>loan_grade</th>\n",
       "      <th>loan_amount</th>\n",
       "      <th>interest_rate</th>\n",
       "      <th>loan_status</th>\n",
       "      <th>loan_percent_income</th>\n",
       "      <th>History_of_Default</th>\n",
       "      <th>Length_of_Default_History</th>\n",
       "    </tr>\n",
       "  </thead>\n",
       "  <tbody>\n",
       "    <tr>\n",
       "      <th>1</th>\n",
       "      <td>23</td>\n",
       "      <td>1</td>\n",
       "      <td>2</td>\n",
       "      <td>92111</td>\n",
       "      <td>3</td>\n",
       "      <td>7.0</td>\n",
       "      <td>4</td>\n",
       "      <td>5</td>\n",
       "      <td>35000</td>\n",
       "      <td>20.0</td>\n",
       "      <td>1</td>\n",
       "      <td>0.32</td>\n",
       "      <td>0</td>\n",
       "      <td>4</td>\n",
       "    </tr>\n",
       "    <tr>\n",
       "      <th>2</th>\n",
       "      <td>23</td>\n",
       "      <td>1</td>\n",
       "      <td>4</td>\n",
       "      <td>113000</td>\n",
       "      <td>3</td>\n",
       "      <td>8.0</td>\n",
       "      <td>1</td>\n",
       "      <td>3</td>\n",
       "      <td>35000</td>\n",
       "      <td>18.0</td>\n",
       "      <td>1</td>\n",
       "      <td>0.31</td>\n",
       "      <td>0</td>\n",
       "      <td>4</td>\n",
       "    </tr>\n",
       "    <tr>\n",
       "      <th>3</th>\n",
       "      <td>24</td>\n",
       "      <td>1</td>\n",
       "      <td>3</td>\n",
       "      <td>10800</td>\n",
       "      <td>0</td>\n",
       "      <td>8.0</td>\n",
       "      <td>2</td>\n",
       "      <td>1</td>\n",
       "      <td>1750</td>\n",
       "      <td>11.0</td>\n",
       "      <td>1</td>\n",
       "      <td>0.16</td>\n",
       "      <td>0</td>\n",
       "      <td>2</td>\n",
       "    </tr>\n",
       "    <tr>\n",
       "      <th>4</th>\n",
       "      <td>22</td>\n",
       "      <td>0</td>\n",
       "      <td>3</td>\n",
       "      <td>65000</td>\n",
       "      <td>3</td>\n",
       "      <td>4.0</td>\n",
       "      <td>2</td>\n",
       "      <td>3</td>\n",
       "      <td>34000</td>\n",
       "      <td>18.0</td>\n",
       "      <td>1</td>\n",
       "      <td>0.52</td>\n",
       "      <td>0</td>\n",
       "      <td>4</td>\n",
       "    </tr>\n",
       "    <tr>\n",
       "      <th>5</th>\n",
       "      <td>22</td>\n",
       "      <td>0</td>\n",
       "      <td>1</td>\n",
       "      <td>80000</td>\n",
       "      <td>3</td>\n",
       "      <td>3.0</td>\n",
       "      <td>5</td>\n",
       "      <td>3</td>\n",
       "      <td>33950</td>\n",
       "      <td>15.0</td>\n",
       "      <td>1</td>\n",
       "      <td>0.42</td>\n",
       "      <td>1</td>\n",
       "      <td>4</td>\n",
       "    </tr>\n",
       "  </tbody>\n",
       "</table>\n",
       "</div>"
      ],
      "text/plain": [
       "   Age  Gender  Marital Status  Income  home_ownership  length_of_employment  \\\n",
       "1   23       1               2   92111               3                   7.0   \n",
       "2   23       1               4  113000               3                   8.0   \n",
       "3   24       1               3   10800               0                   8.0   \n",
       "4   22       0               3   65000               3                   4.0   \n",
       "5   22       0               1   80000               3                   3.0   \n",
       "\n",
       "   purpose_of_loan  loan_grade  loan_amount  interest_rate  loan_status  \\\n",
       "1                4           5        35000           20.0            1   \n",
       "2                1           3        35000           18.0            1   \n",
       "3                2           1         1750           11.0            1   \n",
       "4                2           3        34000           18.0            1   \n",
       "5                5           3        33950           15.0            1   \n",
       "\n",
       "   loan_percent_income  History_of_Default  Length_of_Default_History  \n",
       "1                 0.32                   0                          4  \n",
       "2                 0.31                   0                          4  \n",
       "3                 0.16                   0                          2  \n",
       "4                 0.52                   0                          4  \n",
       "5                 0.42                   1                          4  "
      ]
     },
     "execution_count": 35,
     "metadata": {},
     "output_type": "execute_result"
    }
   ],
   "source": [
    "#selecting rows without outliers in 'length_of_employment' and saving the resulting dataframe\n",
    "df_logreg = Data[(Data['length_of_employment'] >= lower_limit) & (Data['length_of_employment'] <= upper_limit)]\n",
    "\n",
    "df_logreg.head()"
   ]
  },
  {
   "cell_type": "code",
   "execution_count": 36,
   "id": "24bf8086",
   "metadata": {},
   "outputs": [
    {
     "data": {
      "text/plain": [
       "Age                          0\n",
       "Gender                       0\n",
       "Marital Status               0\n",
       "Income                       0\n",
       "home_ownership               0\n",
       "length_of_employment         0\n",
       "purpose_of_loan              0\n",
       "loan_grade                   0\n",
       "loan_amount                  0\n",
       "interest_rate                0\n",
       "loan_status                  0\n",
       "loan_percent_income          0\n",
       "History_of_Default           0\n",
       "Length_of_Default_History    0\n",
       "dtype: int64"
      ]
     },
     "execution_count": 36,
     "metadata": {},
     "output_type": "execute_result"
    }
   ],
   "source": [
    "#checking for the missing values in the df_logreg dataframe\n",
    "df_logreg.isnull().sum()"
   ]
  },
  {
   "cell_type": "markdown",
   "id": "b1854bf9",
   "metadata": {},
   "source": [
    "We should isolate the outcome variable, which is the variable we want to predict"
   ]
  },
  {
   "cell_type": "code",
   "execution_count": 37,
   "id": "be60b08c",
   "metadata": {},
   "outputs": [
    {
     "data": {
      "text/plain": [
       "1    1\n",
       "2    1\n",
       "3    1\n",
       "4    1\n",
       "5    1\n",
       "Name: loan_status, dtype: int64"
      ]
     },
     "execution_count": 37,
     "metadata": {},
     "output_type": "execute_result"
    }
   ],
   "source": [
    "#isolate the outcome variable\n",
    "y = df_logreg['loan_status']\n",
    "#displaying the first few rows of the outcome variable\n",
    "y.head() "
   ]
  },
  {
   "cell_type": "markdown",
   "id": "d80cf206",
   "metadata": {},
   "source": [
    "We need to select the variables that we need to use in our model and consider which variables that will help us to predict the outcome variable, loan_status."
   ]
  },
  {
   "cell_type": "code",
   "execution_count": 38,
   "id": "f950a165",
   "metadata": {},
   "outputs": [
    {
     "data": {
      "text/html": [
       "<div>\n",
       "<style scoped>\n",
       "    .dataframe tbody tr th:only-of-type {\n",
       "        vertical-align: middle;\n",
       "    }\n",
       "\n",
       "    .dataframe tbody tr th {\n",
       "        vertical-align: top;\n",
       "    }\n",
       "\n",
       "    .dataframe thead th {\n",
       "        text-align: right;\n",
       "    }\n",
       "</style>\n",
       "<table border=\"1\" class=\"dataframe\">\n",
       "  <thead>\n",
       "    <tr style=\"text-align: right;\">\n",
       "      <th></th>\n",
       "      <th>Age</th>\n",
       "      <th>Gender</th>\n",
       "      <th>Marital Status</th>\n",
       "      <th>Income</th>\n",
       "      <th>home_ownership</th>\n",
       "      <th>length_of_employment</th>\n",
       "      <th>purpose_of_loan</th>\n",
       "      <th>loan_grade</th>\n",
       "      <th>loan_amount</th>\n",
       "      <th>interest_rate</th>\n",
       "      <th>loan_percent_income</th>\n",
       "      <th>History_of_Default</th>\n",
       "      <th>Length_of_Default_History</th>\n",
       "    </tr>\n",
       "  </thead>\n",
       "  <tbody>\n",
       "    <tr>\n",
       "      <th>1</th>\n",
       "      <td>23</td>\n",
       "      <td>1</td>\n",
       "      <td>2</td>\n",
       "      <td>92111</td>\n",
       "      <td>3</td>\n",
       "      <td>7.0</td>\n",
       "      <td>4</td>\n",
       "      <td>5</td>\n",
       "      <td>35000</td>\n",
       "      <td>20.0</td>\n",
       "      <td>0.32</td>\n",
       "      <td>0</td>\n",
       "      <td>4</td>\n",
       "    </tr>\n",
       "    <tr>\n",
       "      <th>2</th>\n",
       "      <td>23</td>\n",
       "      <td>1</td>\n",
       "      <td>4</td>\n",
       "      <td>113000</td>\n",
       "      <td>3</td>\n",
       "      <td>8.0</td>\n",
       "      <td>1</td>\n",
       "      <td>3</td>\n",
       "      <td>35000</td>\n",
       "      <td>18.0</td>\n",
       "      <td>0.31</td>\n",
       "      <td>0</td>\n",
       "      <td>4</td>\n",
       "    </tr>\n",
       "    <tr>\n",
       "      <th>3</th>\n",
       "      <td>24</td>\n",
       "      <td>1</td>\n",
       "      <td>3</td>\n",
       "      <td>10800</td>\n",
       "      <td>0</td>\n",
       "      <td>8.0</td>\n",
       "      <td>2</td>\n",
       "      <td>1</td>\n",
       "      <td>1750</td>\n",
       "      <td>11.0</td>\n",
       "      <td>0.16</td>\n",
       "      <td>0</td>\n",
       "      <td>2</td>\n",
       "    </tr>\n",
       "    <tr>\n",
       "      <th>4</th>\n",
       "      <td>22</td>\n",
       "      <td>0</td>\n",
       "      <td>3</td>\n",
       "      <td>65000</td>\n",
       "      <td>3</td>\n",
       "      <td>4.0</td>\n",
       "      <td>2</td>\n",
       "      <td>3</td>\n",
       "      <td>34000</td>\n",
       "      <td>18.0</td>\n",
       "      <td>0.52</td>\n",
       "      <td>0</td>\n",
       "      <td>4</td>\n",
       "    </tr>\n",
       "    <tr>\n",
       "      <th>5</th>\n",
       "      <td>22</td>\n",
       "      <td>0</td>\n",
       "      <td>1</td>\n",
       "      <td>80000</td>\n",
       "      <td>3</td>\n",
       "      <td>3.0</td>\n",
       "      <td>5</td>\n",
       "      <td>3</td>\n",
       "      <td>33950</td>\n",
       "      <td>15.0</td>\n",
       "      <td>0.42</td>\n",
       "      <td>1</td>\n",
       "      <td>4</td>\n",
       "    </tr>\n",
       "  </tbody>\n",
       "</table>\n",
       "</div>"
      ],
      "text/plain": [
       "   Age  Gender  Marital Status  Income  home_ownership  length_of_employment  \\\n",
       "1   23       1               2   92111               3                   7.0   \n",
       "2   23       1               4  113000               3                   8.0   \n",
       "3   24       1               3   10800               0                   8.0   \n",
       "4   22       0               3   65000               3                   4.0   \n",
       "5   22       0               1   80000               3                   3.0   \n",
       "\n",
       "   purpose_of_loan  loan_grade  loan_amount  interest_rate  \\\n",
       "1                4           5        35000           20.0   \n",
       "2                1           3        35000           18.0   \n",
       "3                2           1         1750           11.0   \n",
       "4                2           3        34000           18.0   \n",
       "5                5           3        33950           15.0   \n",
       "\n",
       "   loan_percent_income  History_of_Default  Length_of_Default_History  \n",
       "1                 0.32                   0                          4  \n",
       "2                 0.31                   0                          4  \n",
       "3                 0.16                   0                          2  \n",
       "4                 0.52                   0                          4  \n",
       "5                 0.42                   1                          4  "
      ]
     },
     "execution_count": 38,
     "metadata": {},
     "output_type": "execute_result"
    }
   ],
   "source": [
    "#selecting the variables we want to use in our model\n",
    "X=df_logreg.drop('loan_status', axis=1)\n",
    "#displaying the first few rows of the selected variables\n",
    "X.head()"
   ]
  },
  {
   "cell_type": "markdown",
   "id": "e8e65682",
   "metadata": {},
   "source": [
    "We need to split our data into training and testing set. We will again stratify the data based on the values in y, since classes are unbalanced"
   ]
  },
  {
   "cell_type": "code",
   "execution_count": 39,
   "id": "9f445db9",
   "metadata": {},
   "outputs": [],
   "source": [
    "#splitting the data into training set and testing set\n",
    "X_train, X_test, y_train, y_test = train_test_split(X, y, test_size=0.25, stratify=y, random_state=42)"
   ]
  },
  {
   "cell_type": "markdown",
   "id": "e2b443e4",
   "metadata": {},
   "source": [
    "Constructing a logistic regression model and fitting it into the training dataset"
   ]
  },
  {
   "cell_type": "code",
   "execution_count": 40,
   "id": "d3f44a86",
   "metadata": {},
   "outputs": [],
   "source": [
    "#Constructing a logistic regression model and fitting it into the training dataset\n",
    "log_clf = LogisticRegression(random_state=42, max_iter=500).fit(X_train, y_train)"
   ]
  },
  {
   "cell_type": "markdown",
   "id": "a0597134",
   "metadata": {},
   "source": [
    "Testing the logistic regression model "
   ]
  },
  {
   "cell_type": "code",
   "execution_count": 41,
   "id": "e65e68d6",
   "metadata": {},
   "outputs": [],
   "source": [
    "#using the logistic regression to get predictions on the test set\n",
    "y_pred = log_clf.predict(X_test)"
   ]
  },
  {
   "cell_type": "code",
   "execution_count": 42,
   "id": "60a50be0",
   "metadata": {},
   "outputs": [
    {
     "data": {
      "image/png": "[encoded data removed]",
      "text/plain": [
       "<Figure size 432x288 with 2 Axes>"
      ]
     },
     "metadata": {
      "needs_background": "light"
     },
     "output_type": "display_data"
    }
   ],
   "source": [
    " #Computing values for confusion matrix\n",
    "log_cm = confusion_matrix(y_test, y_pred, labels=log_clf.classes_)\n",
    "\n",
    "# Creating a display of confusion matrix\n",
    "log_disp = ConfusionMatrixDisplay(confusion_matrix=log_cm, \n",
    "                                  display_labels=log_clf.classes_)\n",
    "\n",
    "# Plotting a confusion matrix\n",
    "log_disp.plot(values_format='')\n",
    "\n",
    "# Displaying a plot\n",
    "plt.show()"
   ]
  },
  {
   "cell_type": "markdown",
   "id": "20e12c9e",
   "metadata": {},
   "source": [
    "The class balance of the dataset that has been splitted should be checked."
   ]
  },
  {
   "cell_type": "code",
   "execution_count": 43,
   "id": "9d36a418",
   "metadata": {},
   "outputs": [
    {
     "data": {
      "text/plain": [
       "0    0.768691\n",
       "1    0.231309\n",
       "Name: loan_status, dtype: float64"
      ]
     },
     "execution_count": 43,
     "metadata": {},
     "output_type": "execute_result"
    }
   ],
   "source": [
    "#checking the class balance in the dataset\n",
    "df_logreg['loan_status'].value_counts(normalize=True)"
   ]
  },
  {
   "cell_type": "markdown",
   "id": "54fcca98",
   "metadata": {},
   "source": [
    "There is an approximately 77% and 23% split, so the data is not perfectly balanced. "
   ]
  },
  {
   "cell_type": "markdown",
   "id": "ff68ee78",
   "metadata": {},
   "source": [
    "A classification report is constructed to show precision, recall, f1_score, and accuracy metrics in order to evaluate the performance of our logistic regression model."
   ]
  },
  {
   "cell_type": "code",
   "execution_count": 44,
   "id": "c9ad7e49",
   "metadata": {},
   "outputs": [
    {
     "name": "stdout",
     "output_type": "stream",
     "text": [
      "                             precision    recall  f1-score   support\n",
      "\n",
      "Predicted would not default       0.83      0.95      0.89      5776\n",
      "    Predicted would default       0.69      0.36      0.47      1738\n",
      "\n",
      "                   accuracy                           0.81      7514\n",
      "                  macro avg       0.76      0.65      0.68      7514\n",
      "               weighted avg       0.80      0.81      0.79      7514\n",
      "\n"
     ]
    }
   ],
   "source": [
    "# Create classification report for logistic regression model\n",
    "target_names = ['Predicted would not default', 'Predicted would default']\n",
    "print(classification_report(y_test, y_pred, target_names=target_names))"
   ]
  },
  {
   "cell_type": "markdown",
   "id": "7d136cf5",
   "metadata": {},
   "source": [
    "The classification report above shows that the logistic regression model achieved a precision of 80%, recall of 82%, f1-score of 80%, and accuracy of 82%. "
   ]
  },
  {
   "cell_type": "markdown",
   "id": "2295eecd",
   "metadata": {},
   "source": [
    "The feature importance of the of our variables in their order is very important and should be displayed"
   ]
  },
  {
   "cell_type": "code",
   "execution_count": 45,
   "id": "22bb5f54",
   "metadata": {},
   "outputs": [],
   "source": [
    "#finding the coefficients\n",
    "coefficients = log_clf.coef_[0]"
   ]
  },
  {
   "cell_type": "code",
   "execution_count": 46,
   "id": "d916c471",
   "metadata": {},
   "outputs": [
    {
     "data": {
      "text/plain": [
       "<AxesSubplot:ylabel='Feature'>"
      ]
     },
     "execution_count": 46,
     "metadata": {},
     "output_type": "execute_result"
    },
    {
     "data": {
      "image/png": "[encoded data removed]",
      "text/plain": [
       "<Figure size 720x432 with 1 Axes>"
      ]
     },
     "metadata": {
      "needs_background": "light"
     },
     "output_type": "display_data"
    }
   ],
   "source": [
    "#displaying the feature importance of our variables using a horizontal bar graph\n",
    "feature_importance = pd.DataFrame({'Feature': X.columns, 'Importance': np.abs(coefficients)})\n",
    "feature_importance = feature_importance.sort_values('Importance', ascending=True)\n",
    "feature_importance.plot(x='Feature', y='Importance', kind='barh', figsize=(10, 6))"
   ]
  },
  {
   "cell_type": "code",
   "execution_count": 47,
   "id": "a8da048b",
   "metadata": {},
   "outputs": [
    {
     "data": {
      "text/plain": [
       "array([-1.10903805e-01, -8.85231932e-03, -3.92800456e-02, -3.51709246e-05,\n",
       "        6.50504050e-02, -8.00230202e-02, -9.57254748e-04,  1.81599726e-01,\n",
       "        1.06187109e-04,  1.71122262e-01,  3.35157880e-03,  2.79384205e-02,\n",
       "        1.42185058e-01])"
      ]
     },
     "execution_count": 47,
     "metadata": {},
     "output_type": "execute_result"
    }
   ],
   "source": [
    "#displaying the coefficients\n",
    "coefficients"
   ]
  },
  {
   "cell_type": "code",
   "execution_count": 48,
   "id": "31198318",
   "metadata": {},
   "outputs": [
    {
     "data": {
      "text/plain": [
       "<AxesSubplot:xlabel='Feature'>"
      ]
     },
     "execution_count": 48,
     "metadata": {},
     "output_type": "execute_result"
    },
    {
     "data": {
      "image/png": "[encoded data removed]",
      "text/plain": [
       "<Figure size 720x432 with 1 Axes>"
      ]
     },
     "metadata": {
      "needs_background": "light"
     },
     "output_type": "display_data"
    }
   ],
   "source": [
    "#displaying the feature importance of our variables using a ver bar graph\n",
    "feature_importance = pd.DataFrame({'Feature': X.columns, 'Importance': np.abs(coefficients)})\n",
    "feature_importance = feature_importance.sort_values('Importance', ascending=True)\n",
    "feature_importance.plot(x='Feature', y='Importance', kind='bar', figsize=(10, 6))"
   ]
  },
  {
   "cell_type": "markdown",
   "id": "9ef579c4",
   "metadata": {},
   "source": [
    "From the bar graphs above we can see that the bars of the bar graph are in ascending order showing showing the importance of the variables in predicting whether a client who has borrowed the money is likely to default or not."
   ]
  },
  {
   "cell_type": "markdown",
   "id": "12ad6b78",
   "metadata": {},
   "source": [
    "# pacE:Execute Stage"
   ]
  },
  {
   "cell_type": "markdown",
   "id": "dc4f30c0",
   "metadata": {},
   "source": [
    "The accuracy is 81%. This is the percentage of the correct predictions from all predictions made using the Logistic Regression.  \n",
    "\n"
   ]
  },
  {
   "cell_type": "markdown",
   "id": "30fccf4d",
   "metadata": {},
   "source": [
    "The precision of our Logistic Regression is 80%. This means that for all the sets of data collected from the beginning of the period and to the end of the same period that the model predicted would not default only 80% did.\n"
   ]
  },
  {
   "cell_type": "markdown",
   "id": "57d67eb7",
   "metadata": {},
   "source": [
    "For the recall: Out of all the sets of data that did not default, the model only predicted this outcome correctly for 81% of those sets of data. \n"
   ]
  },
  {
   "cell_type": "markdown",
   "id": "65ca31cb",
   "metadata": {},
   "source": [
    "The F1-Score is 79%. Since this value is not that very close to 1, it tells us that the model does a moderate job of predicting whether or not the sets of data will not default. "
   ]
  },
  {
   "cell_type": "code",
   "execution_count": null,
   "id": "8728a713",
   "metadata": {},
   "outputs": [],
   "source": []
  }
 ],
 "metadata": {
  "kernelspec": {
   "display_name": "Python 3 (ipykernel)",
   "language": "python",
   "name": "python3"
  },
  "language_info": {
   "codemirror_mode": {
    "name": "ipython",
    "version": 3
   },
   "file_extension": ".py",
   "mimetype": "text/x-python",
   "name": "python",
   "nbconvert_exporter": "python",
   "pygments_lexer": "ipython3",
   "version": "3.9.7"
  }
 },
 "nbformat": 4,
 "nbformat_minor": 5
}
